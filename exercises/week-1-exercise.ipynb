{
 "cells": [
  {
   "cell_type": "markdown",
   "metadata": {},
   "source": [
    "## Week 1"
   ]
  },
  {
   "cell_type": "markdown",
   "metadata": {},
   "source": [
    "### Exercise 1:\n",
    "Write a function that receives a list as parameter and return how many elements it has; if it doesn't have any element return an error."
   ]
  },
  {
   "cell_type": "markdown",
   "metadata": {},
   "source": [
    "*Bir listeyi parametre olarak alan ve kaç öğeye sahip olduğunu döndüren bir fonksiyon yazın; herhangi bir elemanı yoksa hata döndürür.*"
   ]
  },
  {
   "cell_type": "markdown",
   "metadata": {},
   "source": [
    "#### Solution 1:"
   ]
  },
  {
   "cell_type": "code",
   "execution_count": 1,
   "metadata": {},
   "outputs": [],
   "source": [
    "def length_list(your_list):\n",
    "    \"\"\"Bir listenin uzunluğunu hesapla.\n",
    "        :param your_list: Girilen liste\n",
    "        :return: Listenin uzunluğunu döndür\n",
    "        :raise: Eğer liste boşsa ValueError türünde bir istisna (exception) fırlatır\n",
    "    \"\"\"\n",
    "    if your_list: # If the list is not empty\n",
    "        return len(your_list) # Return the length of the list\n",
    "    else:\n",
    "        raise ValueError(\"Listede herhangi bir öğe yok\") # It doesn't have any element in the list"
   ]
  },
  {
   "cell_type": "code",
   "execution_count": 2,
   "metadata": {},
   "outputs": [],
   "source": [
    "input_list = input(\"Lütfen boşluklarla ayrılmış öğeler yazarak listenizi girin: \") # Enter elements separated by spaces for a list"
   ]
  },
  {
   "cell_type": "markdown",
   "metadata": {},
   "source": [
    "\"Merhaba Ada Lovelace Akademisi\""
   ]
  },
  {
   "cell_type": "code",
   "execution_count": 3,
   "metadata": {},
   "outputs": [
    {
     "name": "stdout",
     "output_type": "stream",
     "text": [
      "Girilen liste: ['Merhaba', 'Ada', 'Lovelace', 'Akademisi']\n"
     ]
    }
   ],
   "source": [
    "your_list = input_list.split() # Turns it into a list separated by spaces\n",
    "print(\"Girilen liste:\", your_list) # Print the your_list"
   ]
  },
  {
   "cell_type": "code",
   "execution_count": 4,
   "metadata": {},
   "outputs": [
    {
     "data": {
      "text/plain": [
       "list"
      ]
     },
     "execution_count": 4,
     "metadata": {},
     "output_type": "execute_result"
    }
   ],
   "source": [
    "type(your_list)"
   ]
  },
  {
   "cell_type": "markdown",
   "metadata": {},
   "source": [
    "Eğer your_list başka bir iterable veri tipiyse (örneğin, bir tuple veya bir string), bu fonksiyon kullanılarak bu veri tipi listeye dönüştürülmesi gerekir.\n",
    "\n",
    "*your_list = list(your_list)*"
   ]
  },
  {
   "cell_type": "code",
   "execution_count": 5,
   "metadata": {},
   "outputs": [
    {
     "data": {
      "text/plain": [
       "4"
      ]
     },
     "execution_count": 5,
     "metadata": {},
     "output_type": "execute_result"
    }
   ],
   "source": [
    "length_list(your_list)"
   ]
  },
  {
   "cell_type": "code",
   "execution_count": 6,
   "metadata": {},
   "outputs": [
    {
     "ename": "ValueError",
     "evalue": "Listede herhangi bir öğe yok",
     "output_type": "error",
     "traceback": [
      "\u001b[1;31m---------------------------------------------------------------------------\u001b[0m",
      "\u001b[1;31mValueError\u001b[0m                                Traceback (most recent call last)",
      "Cell \u001b[1;32mIn[6], line 2\u001b[0m\n\u001b[0;32m      1\u001b[0m empyt_list \u001b[38;5;241m=\u001b[39m []\n\u001b[1;32m----> 2\u001b[0m \u001b[43mlength_list\u001b[49m\u001b[43m(\u001b[49m\u001b[43mempyt_list\u001b[49m\u001b[43m)\u001b[49m\n",
      "Cell \u001b[1;32mIn[1], line 10\u001b[0m, in \u001b[0;36mlength_list\u001b[1;34m(your_list)\u001b[0m\n\u001b[0;32m      8\u001b[0m     \u001b[38;5;28;01mreturn\u001b[39;00m \u001b[38;5;28mlen\u001b[39m(your_list) \u001b[38;5;66;03m# Return the length of the list\u001b[39;00m\n\u001b[0;32m      9\u001b[0m \u001b[38;5;28;01melse\u001b[39;00m:\n\u001b[1;32m---> 10\u001b[0m     \u001b[38;5;28;01mraise\u001b[39;00m \u001b[38;5;167;01mValueError\u001b[39;00m(\u001b[38;5;124m\"\u001b[39m\u001b[38;5;124mListede herhangi bir öğe yok\u001b[39m\u001b[38;5;124m\"\u001b[39m)\n",
      "\u001b[1;31mValueError\u001b[0m: Listede herhangi bir öğe yok"
     ]
    }
   ],
   "source": [
    "empyt_list = []\n",
    "length_list(empyt_list)"
   ]
  },
  {
   "cell_type": "markdown",
   "metadata": {},
   "source": [
    "#### Solution 2:"
   ]
  },
  {
   "cell_type": "code",
   "execution_count": 7,
   "metadata": {},
   "outputs": [],
   "source": [
    "def list_size(my_list):\n",
    "    size = len(my_list)\n",
    "    if (size > 0):\n",
    "        return f\"List have {size} elements.\"\n",
    "    return \"Error! No elements.\""
   ]
  },
  {
   "cell_type": "code",
   "execution_count": 8,
   "metadata": {},
   "outputs": [
    {
     "data": {
      "text/plain": [
       "'List have 6 elements.'"
      ]
     },
     "execution_count": 8,
     "metadata": {},
     "output_type": "execute_result"
    }
   ],
   "source": [
    "tuba_s_list = [1, 2, 3, \"a\", \"b\", \"c\"]\n",
    "list_size(tuba_s_list)"
   ]
  },
  {
   "cell_type": "code",
   "execution_count": 9,
   "metadata": {},
   "outputs": [
    {
     "data": {
      "text/plain": [
       "'Error! No elements.'"
      ]
     },
     "execution_count": 9,
     "metadata": {},
     "output_type": "execute_result"
    }
   ],
   "source": [
    "empty_list = []\n",
    "list_size(empty_list)"
   ]
  },
  {
   "cell_type": "markdown",
   "metadata": {},
   "source": [
    "### Exercise 2:\n",
    "Write a function that receives a string as parameter and return the number of each character in it."
   ]
  },
  {
   "cell_type": "markdown",
   "metadata": {},
   "source": [
    "*Parametre olarak bir String alan ve içindeki her karakterin sayısını döndüren bir fonksiyon yazın.*"
   ]
  },
  {
   "cell_type": "code",
   "execution_count": 10,
   "metadata": {},
   "outputs": [],
   "source": [
    "input_string = input(\"Lütfen yazınızı girin: \") # Enter the string"
   ]
  },
  {
   "cell_type": "markdown",
   "metadata": {},
   "source": [
    "Veri Bilimi"
   ]
  },
  {
   "cell_type": "markdown",
   "metadata": {},
   "source": [
    "#### Solution 1:"
   ]
  },
  {
   "cell_type": "code",
   "execution_count": 11,
   "metadata": {},
   "outputs": [],
   "source": [
    "from collections import Counter\n",
    "\n",
    "def count_characters(input_string):\n",
    "    \"\"\"Bir String içinde geçen her karakter sayısını hesapla.\n",
    "        :param input_string: Girilen cümle\n",
    "        :return: String içinde geçen her karakter sayısını döndür\n",
    "    \"\"\"\n",
    "    # char_counts = Counter(input_string) # Count of each character in the string\n",
    "    char_counts = Counter(input_string).most_common(len(input_string)) # String karakteri en sık olandan başla\n",
    "    return char_counts # Return character counts in a string"
   ]
  },
  {
   "cell_type": "code",
   "execution_count": 12,
   "metadata": {},
   "outputs": [
    {
     "name": "stdout",
     "output_type": "stream",
     "text": [
      "Bir string de ki her karakterin sayısı: [('i', 4), ('V', 1), ('e', 1), ('r', 1), (' ', 1), ('B', 1), ('l', 1), ('m', 1)]\n"
     ]
    }
   ],
   "source": [
    "number_of_each_character_word = count_characters(input_string)\n",
    "print(\"Bir string de ki her karakterin sayısı:\", number_of_each_character_word)"
   ]
  },
  {
   "cell_type": "markdown",
   "metadata": {},
   "source": [
    "#### Solution 2:"
   ]
  },
  {
   "cell_type": "code",
   "execution_count": 13,
   "metadata": {},
   "outputs": [],
   "source": [
    "def count_characters(input_string):\n",
    "    \"\"\"Bir String içinde geçen her karakter sayısını hesapla.\n",
    "        :param input_string: Girilen cümle\n",
    "        :return: String içinde geçen her karakter sayısını döndür\n",
    "    \"\"\"\n",
    "    # Initialize an empty dictionary to store character counts.\n",
    "    char_counts = {}\n",
    "\n",
    "    for char in input_string: # Each character in the input string\n",
    "        if char in char_counts: # If the character is already in the dictionary\n",
    "            char_counts[char] += 1 # It is increment the count by 1\n",
    "        else: # If it's not\n",
    "            char_counts[char] = 1 # Add the character to the dictionary with a count of 1\n",
    "\n",
    "    return char_counts # Return the final dictionary containing character counts"
   ]
  },
  {
   "cell_type": "markdown",
   "metadata": {},
   "source": [
    "Girdi olarak verilen string içindeki her karakterin sayısını bir sözlükte tutar. Eğer karakter zaten sözlükte varsa, sayısını bir artırır; yoksa, sözlüğe ekler ve sayısını 1 yapar. Sonuç olarak, her karakterin kaç kez geçtiğini içeren bir sözlük elde edersiniz."
   ]
  },
  {
   "cell_type": "code",
   "execution_count": 14,
   "metadata": {},
   "outputs": [
    {
     "name": "stdout",
     "output_type": "stream",
     "text": [
      "{'V': 1, 'e': 1, 'r': 1, 'i': 4, ' ': 1, 'B': 1, 'l': 1, 'm': 1}\n"
     ]
    }
   ],
   "source": [
    "result = count_characters(input_string)\n",
    "print(result)"
   ]
  },
  {
   "cell_type": "code",
   "execution_count": null,
   "metadata": {},
   "outputs": [],
   "source": []
  }
 ],
 "metadata": {
  "kernelspec": {
   "display_name": "Python 3",
   "language": "python",
   "name": "python3"
  },
  "language_info": {
   "codemirror_mode": {
    "name": "ipython",
    "version": 3
   },
   "file_extension": ".py",
   "mimetype": "text/x-python",
   "name": "python",
   "nbconvert_exporter": "python",
   "pygments_lexer": "ipython3",
   "version": "3.10.13"
  }
 },
 "nbformat": 4,
 "nbformat_minor": 2
}
