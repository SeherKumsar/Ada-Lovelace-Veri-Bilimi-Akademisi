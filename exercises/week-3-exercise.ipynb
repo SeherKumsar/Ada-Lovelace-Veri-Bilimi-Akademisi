{
 "cells": [
  {
   "cell_type": "markdown",
   "metadata": {},
   "source": [
    "## Week 3"
   ]
  },
  {
   "cell_type": "markdown",
   "metadata": {},
   "source": [
    "### Exercise:\n",
    "\n",
    "- Join kaggle.com and choose a real-world dataset. (This is part of your homework, try to do some research on Kaggle.)\n",
    "- Download the data of your choice.\n",
    "- Practice data cleaning and preprocessing, handle missing values, outliers etc.\n",
    "- Explore the basic statistics with pandas methods.\n",
    "- Create visualizations to understand the distribution of variables.\n",
    "- Identify correlations between variables using correlation matrices and/or heatmaps.\n",
    "- Derive insights from your analysis. What interesting patterns or trends did you discover?\n",
    "\n",
    "### Notes:\n",
    "- The goal is to gain insights into the data and present your findings through meaningful visualizations.\n",
    "- Document your analysis and include code comments to explain each step of the analysis.\n",
    "- Create visualizations with clear labels and titles.\n",
    "- Summarize your findings in a informative manner.\n"
   ]
  },
  {
   "cell_type": "markdown",
   "metadata": {},
   "source": [
    "### Örnek:\n",
    "\n",
    "- Kaggle.com'a katılın ve gerçek dünyadan bir veri kümesi seçin. (Bu ödevinizin bir parçası, Kaggle hakkında biraz araştırma yapmaya çalışın.)\n",
    "- İstediğiniz verileri indirin.\n",
    "- Veri temizleme ve ön işleme alıştırmaları yapın, eksik değerleri, aykırı değerleri vb. ele alın.\n",
    "- Panda yöntemleriyle temel istatistikleri keşfedin.\n",
    "- Değişkenlerin dağılımını anlamak için görselleştirmeler oluşturun.\n",
    "- Korelasyon matrislerini ve/veya ısı haritalarını kullanarak değişkenler arasındaki korelasyonları belirleyin.\n",
    "- Analizinizden içgörüler elde edin. Hangi ilginç kalıpları veya eğilimleri keşfettiniz?\n",
    "\n",
    "### Notlar:\n",
    "- Amaç, verilere ilişkin içgörüler elde etmek ve bulgularınızı anlamlı görselleştirmelerle sunmaktır.\n",
    "- Analizinizi belgeleyin ve analizin her adımını açıklamak için kod yorumlarını ekleyin.\n",
    "- Anlaşılır etiketler ve başlıklarla görselleştirmeler oluşturun.\n",
    "- Bulgularınızı bilgilendirici bir şekilde özetleyin."
   ]
  },
  {
   "cell_type": "markdown",
   "metadata": {},
   "source": [
    "### Solution:"
   ]
  },
  {
   "cell_type": "code",
   "execution_count": null,
   "metadata": {},
   "outputs": [],
   "source": [
    "# Your code goes here"
   ]
  }
 ],
 "metadata": {
  "kernelspec": {
   "display_name": "Python 3",
   "language": "python",
   "name": "python3"
  },
  "language_info": {
   "codemirror_mode": {
    "name": "ipython",
    "version": 3
   },
   "file_extension": ".py",
   "mimetype": "text/x-python",
   "name": "python",
   "nbconvert_exporter": "python",
   "pygments_lexer": "ipython3",
   "version": "3.10.13"
  }
 },
 "nbformat": 4,
 "nbformat_minor": 2
}
