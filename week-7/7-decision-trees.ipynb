{
 "cells": [
  {
   "cell_type": "markdown",
   "metadata": {},
   "source": [
    "# Intro to Decision Trees"
   ]
  },
  {
   "cell_type": "markdown",
   "metadata": {},
   "source": [
    "## Building a decision tree with the training set\n",
    "\n",
    "Classes are:\n",
    "Drug <A>\n",
    "Drug <B>\n",
    "\n",
    "Decision Tree:\n",
    "- age\n",
    "    - young\n",
    "        - sex\n",
    "            - F <A>\n",
    "            - M <B>\n",
    "    - middle-age <B>\n",
    "\n",
    "    - senior\n",
    "        - cholesterol\n",
    "            - high <A>\n",
    "            - normal <B>"
   ]
  },
  {
   "cell_type": "markdown",
   "metadata": {},
   "source": [
    "- Each \"internal node\" corresponds to a test.\n",
    "- And each \"branch\" corresponds to a result of the test.\n",
    "- And each \"leaf node\" assigns a patient to a class."
   ]
  },
  {
   "cell_type": "markdown",
   "metadata": {},
   "source": [
    "1- Choose an attribute from dataset\n",
    "2- Calculate the significance of the attribute in the splitting of the data.\n",
    "3- Split the data based on the value of the best attribute.\n",
    "4- Go to step 1."
   ]
  },
  {
   "cell_type": "markdown",
   "metadata": {},
   "source": [
    "# Building Decision Trees"
   ]
  },
  {
   "cell_type": "markdown",
   "metadata": {},
   "source": [
    "Decision trees are built using recursive partitioning to classify the data."
   ]
  },
  {
   "cell_type": "markdown",
   "metadata": {},
   "source": [
    "- More predictiveness\n",
    "- Less Impurity\n",
    "- Lower Entropy"
   ]
  },
  {
   "cell_type": "markdown",
   "metadata": {},
   "source": [
    "\"Pure Node\": A node in the tree is considered pure if, in all of the cases, the nodes fall into a spesific category. "
   ]
  },
  {
   "cell_type": "markdown",
   "metadata": {},
   "source": [
    "## Entropy\n",
    "Information disorder or randomness in the data.\n",
    "The entropy is used to calculate the homogeneity of the samples in that node.\n",
    "\n",
    "- ### TODO Check entropy formula"
   ]
  },
  {
   "cell_type": "markdown",
   "metadata": {},
   "source": [
    "    Shannon entropy formula"
   ]
  },
  {
   "cell_type": "code",
   "execution_count": 1,
   "metadata": {},
   "outputs": [],
   "source": [
    "# Örnek olasılık dağılımı\n",
    "prob_distribution = [0.2, 0.3, 0.5]"
   ]
  },
  {
   "cell_type": "code",
   "execution_count": 2,
   "metadata": {},
   "outputs": [],
   "source": [
    "import math\n",
    "def shannon_entropy(probabilities):\n",
    "    entropy_value = -sum(p * math.log2(p) for p in probabilities if p > 0)\n",
    "    return entropy_value"
   ]
  },
  {
   "cell_type": "code",
   "execution_count": 3,
   "metadata": {},
   "outputs": [
    {
     "name": "stdout",
     "output_type": "stream",
     "text": [
      "Shannon Entropy: 1.4854752972273344\n"
     ]
    }
   ],
   "source": [
    "result = shannon_entropy(prob_distribution)\n",
    "print(\"Shannon Entropy:\", result)"
   ]
  },
  {
   "cell_type": "code",
   "execution_count": 4,
   "metadata": {},
   "outputs": [
    {
     "name": "stdout",
     "output_type": "stream",
     "text": [
      "Shannon Entropy: 1.4854752972273346\n"
     ]
    }
   ],
   "source": [
    "from scipy.stats import entropy\n",
    "result = entropy(prob_distribution, base=2)  # base parametresi, logaritmanın tabanını belirtir\n",
    "print(\"Shannon Entropy:\", result)"
   ]
  },
  {
   "cell_type": "markdown",
   "metadata": {},
   "source": [
    "    Cross entropy formula\n",
    "cross_entropy = -1*np.sum(np.log(np.square(x)))"
   ]
  },
  {
   "cell_type": "code",
   "execution_count": 5,
   "metadata": {},
   "outputs": [],
   "source": [
    "predicted_distribution = [0.1, 0.2, 0.7]"
   ]
  },
  {
   "cell_type": "code",
   "execution_count": 6,
   "metadata": {},
   "outputs": [
    {
     "name": "stdout",
     "output_type": "stream",
     "text": [
      "Cross Entropy: 0.13277533663122593\n"
     ]
    }
   ],
   "source": [
    "from scipy.stats import entropy\n",
    "# Cross Entropy hesaplama\n",
    "cross_entropy = entropy(prob_distribution, predicted_distribution, base=2)\n",
    "print(\"Cross Entropy:\", cross_entropy)"
   ]
  },
  {
   "cell_type": "markdown",
   "metadata": {},
   "source": [
    "\"The tree with the higher information gain after splitting.\"\n",
    "Information gain = Entropy before split - Weighted entropy after split"
   ]
  },
  {
   "cell_type": "markdown",
   "metadata": {},
   "source": []
  }
 ],
 "metadata": {
  "kernelspec": {
   "display_name": "Python 3",
   "language": "python",
   "name": "python3"
  },
  "language_info": {
   "codemirror_mode": {
    "name": "ipython",
    "version": 3
   },
   "file_extension": ".py",
   "mimetype": "text/x-python",
   "name": "python",
   "nbconvert_exporter": "python",
   "pygments_lexer": "ipython3",
   "version": "3.10.13"
  }
 },
 "nbformat": 4,
 "nbformat_minor": 2
}
