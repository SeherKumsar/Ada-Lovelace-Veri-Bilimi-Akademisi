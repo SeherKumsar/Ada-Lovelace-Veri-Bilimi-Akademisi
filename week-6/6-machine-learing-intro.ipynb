{
 "cells": [
  {
   "cell_type": "markdown",
   "metadata": {},
   "source": [
    "# Python for Machine Learning"
   ]
  },
  {
   "cell_type": "markdown",
   "metadata": {},
   "source": [
    "     1- Numpy\n",
    "     2- Scipy\n",
    "     3- Matplotlib\n",
    "     4- Pandas\n",
    "     5- Scikit-learn"
   ]
  },
  {
   "cell_type": "markdown",
   "metadata": {},
   "source": [
    "Python ının modüllerini isimlendirilmelerde kullanamayız. Örneğin bir modülün adı \"set\" olamaz."
   ]
  },
  {
   "cell_type": "markdown",
   "metadata": {},
   "source": [
    "## Scikit-learn\n",
    "- allows to work with Numpy and Scipy\n",
    "- supports many common machine learning tasks such as classification, regression, clustering, dimensionality reduction, and model selection\n",
    "- easy to use (good docs)\n",
    "\n",
    "pre-processing of data,\n",
    "\n",
    "feature selection,\n",
    "\n",
    "feature extraction,\n",
    "\n",
    "train/test splitting,\n",
    "\n",
    "defining the algorithms,\n",
    "\n",
    "fitting models,\n",
    "\n",
    "tuning parameters,\n",
    "\n",
    "prediction,\n",
    "\n",
    "evaluation,\n",
    "\n",
    "and exporting the model."
   ]
  },
  {
   "cell_type": "code",
   "execution_count": null,
   "metadata": {},
   "outputs": [],
   "source": [
    "from sklearn import preprocessing"
   ]
  },
  {
   "cell_type": "code",
   "execution_count": null,
   "metadata": {},
   "outputs": [],
   "source": [
    "# pre-processing of data\n",
    "X = preprocessing.StandardScaler().fit_transform(X).transform(X)"
   ]
  },
  {
   "cell_type": "code",
   "execution_count": null,
   "metadata": {},
   "outputs": [],
   "source": [
    "from sklearn.model_selection import train_test_split\n",
    "X_train, X_test, y_train, y_test = train_test_split(X, y, test_size=0.3) # 70% training and 30% test"
   ]
  },
  {
   "cell_type": "code",
   "execution_count": null,
   "metadata": {},
   "outputs": [],
   "source": [
    "from sklearn import svm\n",
    "#Create a svm Classifier\n",
    "clf = svm.SVC(gamma=0.01, C=90.0) # estimator instance\n",
    "\n",
    "clf.fit(X_train, y_train) # fit the model\n",
    "\n",
    "clf.predict(X_test) # predict the response"
   ]
  },
  {
   "cell_type": "code",
   "execution_count": null,
   "metadata": {},
   "outputs": [],
   "source": [
    "from sklearn.metrics import confusion_matrix # use metrics to avaluate the model accuracy\n",
    "print(confusion_matrix(y_test, labels=[1,0]))"
   ]
  },
  {
   "cell_type": "code",
   "execution_count": null,
   "metadata": {},
   "outputs": [],
   "source": [
    "import pickle\n",
    "# save the model\n",
    "s = pickle.dumps(clf)"
   ]
  },
  {
   "cell_type": "markdown",
   "metadata": {},
   "source": [
    "# Supervised vs Unsupervised"
   ]
  },
  {
   "cell_type": "markdown",
   "metadata": {},
   "source": [
    "- Supervised learning: the training data you feed to the algorithm includes the desired solutions, called labels\n",
    "- Unsupervised learning: the training data is unlabeled and the system tries to learn"
   ]
  },
  {
   "cell_type": "code",
   "execution_count": null,
   "metadata": {},
   "outputs": [],
   "source": []
  }
 ],
 "metadata": {
  "kernelspec": {
   "display_name": "Python 3",
   "language": "python",
   "name": "python3"
  },
  "language_info": {
   "codemirror_mode": {
    "name": "ipython",
    "version": 3
   },
   "file_extension": ".py",
   "mimetype": "text/x-python",
   "name": "python",
   "nbconvert_exporter": "python",
   "pygments_lexer": "ipython3",
   "version": "3.10.13"
  }
 },
 "nbformat": 4,
 "nbformat_minor": 2
}
