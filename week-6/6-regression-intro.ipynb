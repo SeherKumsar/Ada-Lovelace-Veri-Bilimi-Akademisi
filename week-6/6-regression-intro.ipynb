{
 "cells": [
  {
   "cell_type": "code",
   "execution_count": 1,
   "metadata": {},
   "outputs": [],
   "source": [
    "import pandas as pd\n",
    "import numpy as np"
   ]
  },
  {
   "cell_type": "code",
   "execution_count": 2,
   "metadata": {},
   "outputs": [],
   "source": [
    "data = pd.read_csv('../data/CO2_Emissions_Canada.csv', header=None)"
   ]
  },
  {
   "cell_type": "code",
   "execution_count": 3,
   "metadata": {},
   "outputs": [
    {
     "data": {
      "text/html": [
       "<div>\n",
       "<style scoped>\n",
       "    .dataframe tbody tr th:only-of-type {\n",
       "        vertical-align: middle;\n",
       "    }\n",
       "\n",
       "    .dataframe tbody tr th {\n",
       "        vertical-align: top;\n",
       "    }\n",
       "\n",
       "    .dataframe thead th {\n",
       "        text-align: right;\n",
       "    }\n",
       "</style>\n",
       "<table border=\"1\" class=\"dataframe\">\n",
       "  <thead>\n",
       "    <tr style=\"text-align: right;\">\n",
       "      <th></th>\n",
       "      <th>0</th>\n",
       "      <th>1</th>\n",
       "      <th>2</th>\n",
       "      <th>3</th>\n",
       "      <th>4</th>\n",
       "      <th>5</th>\n",
       "      <th>6</th>\n",
       "      <th>7</th>\n",
       "      <th>8</th>\n",
       "      <th>9</th>\n",
       "      <th>10</th>\n",
       "      <th>11</th>\n",
       "    </tr>\n",
       "  </thead>\n",
       "  <tbody>\n",
       "    <tr>\n",
       "      <th>0</th>\n",
       "      <td>Make</td>\n",
       "      <td>Model</td>\n",
       "      <td>Vehicle Class</td>\n",
       "      <td>Engine Size(L)</td>\n",
       "      <td>Cylinders</td>\n",
       "      <td>Transmission</td>\n",
       "      <td>Fuel Type</td>\n",
       "      <td>Fuel Consumption City (L/100 km)</td>\n",
       "      <td>Fuel Consumption Hwy (L/100 km)</td>\n",
       "      <td>Fuel Consumption Comb (L/100 km)</td>\n",
       "      <td>Fuel Consumption Comb (mpg)</td>\n",
       "      <td>CO2 Emissions(g/km)</td>\n",
       "    </tr>\n",
       "    <tr>\n",
       "      <th>1</th>\n",
       "      <td>ACURA</td>\n",
       "      <td>ILX</td>\n",
       "      <td>COMPACT</td>\n",
       "      <td>2</td>\n",
       "      <td>4</td>\n",
       "      <td>AS5</td>\n",
       "      <td>Z</td>\n",
       "      <td>9.9</td>\n",
       "      <td>6.7</td>\n",
       "      <td>8.5</td>\n",
       "      <td>33</td>\n",
       "      <td>196</td>\n",
       "    </tr>\n",
       "    <tr>\n",
       "      <th>2</th>\n",
       "      <td>ACURA</td>\n",
       "      <td>ILX</td>\n",
       "      <td>COMPACT</td>\n",
       "      <td>2.4</td>\n",
       "      <td>4</td>\n",
       "      <td>M6</td>\n",
       "      <td>Z</td>\n",
       "      <td>11.2</td>\n",
       "      <td>7.7</td>\n",
       "      <td>9.6</td>\n",
       "      <td>29</td>\n",
       "      <td>221</td>\n",
       "    </tr>\n",
       "    <tr>\n",
       "      <th>3</th>\n",
       "      <td>ACURA</td>\n",
       "      <td>ILX HYBRID</td>\n",
       "      <td>COMPACT</td>\n",
       "      <td>1.5</td>\n",
       "      <td>4</td>\n",
       "      <td>AV7</td>\n",
       "      <td>Z</td>\n",
       "      <td>6</td>\n",
       "      <td>5.8</td>\n",
       "      <td>5.9</td>\n",
       "      <td>48</td>\n",
       "      <td>136</td>\n",
       "    </tr>\n",
       "    <tr>\n",
       "      <th>4</th>\n",
       "      <td>ACURA</td>\n",
       "      <td>MDX 4WD</td>\n",
       "      <td>SUV - SMALL</td>\n",
       "      <td>3.5</td>\n",
       "      <td>6</td>\n",
       "      <td>AS6</td>\n",
       "      <td>Z</td>\n",
       "      <td>12.7</td>\n",
       "      <td>9.1</td>\n",
       "      <td>11.1</td>\n",
       "      <td>25</td>\n",
       "      <td>255</td>\n",
       "    </tr>\n",
       "  </tbody>\n",
       "</table>\n",
       "</div>"
      ],
      "text/plain": [
       "      0           1              2               3          4             5   \\\n",
       "0   Make       Model  Vehicle Class  Engine Size(L)  Cylinders  Transmission   \n",
       "1  ACURA         ILX        COMPACT               2          4           AS5   \n",
       "2  ACURA         ILX        COMPACT             2.4          4            M6   \n",
       "3  ACURA  ILX HYBRID        COMPACT             1.5          4           AV7   \n",
       "4  ACURA     MDX 4WD    SUV - SMALL             3.5          6           AS6   \n",
       "\n",
       "          6                                 7   \\\n",
       "0  Fuel Type  Fuel Consumption City (L/100 km)   \n",
       "1          Z                               9.9   \n",
       "2          Z                              11.2   \n",
       "3          Z                                 6   \n",
       "4          Z                              12.7   \n",
       "\n",
       "                                8                                 9   \\\n",
       "0  Fuel Consumption Hwy (L/100 km)  Fuel Consumption Comb (L/100 km)   \n",
       "1                              6.7                               8.5   \n",
       "2                              7.7                               9.6   \n",
       "3                              5.8                               5.9   \n",
       "4                              9.1                              11.1   \n",
       "\n",
       "                            10                   11  \n",
       "0  Fuel Consumption Comb (mpg)  CO2 Emissions(g/km)  \n",
       "1                           33                  196  \n",
       "2                           29                  221  \n",
       "3                           48                  136  \n",
       "4                           25                  255  "
      ]
     },
     "execution_count": 3,
     "metadata": {},
     "output_type": "execute_result"
    }
   ],
   "source": [
    "data.head()"
   ]
  },
  {
   "cell_type": "markdown",
   "metadata": {},
   "source": [
    "- dependent variable (Y): \"target\" or \"final state\" we try to predict\n",
    "- independent variable (X): \"causes\" or \"states\" explanatory variables"
   ]
  },
  {
   "cell_type": "markdown",
   "metadata": {},
   "source": [
    "- dependent variable -> (CO2 Emissions(g/km))"
   ]
  },
  {
   "cell_type": "markdown",
   "metadata": {},
   "source": [
    "A regression model relates y, or the dependent variable, to a function of x, i.e., the independent variables."
   ]
  },
  {
   "cell_type": "markdown",
   "metadata": {},
   "source": [
    "Tip:\n",
    "- You count discreate data.\n",
    "- You measure continues data.\n",
    "\n",
    "- Bar charts to graph discreate data.\n",
    "- Histograms and scatterplots to graph continuous data"
   ]
  },
  {
   "cell_type": "markdown",
   "metadata": {},
   "source": [
    "## Simple regression and Multiple regression"
   ]
  },
  {
   "cell_type": "markdown",
   "metadata": {},
   "source": [
    "- Simple regression is variable.\n",
    "\n",
    "    Linearity of regression variables."
   ]
  },
  {
   "cell_type": "markdown",
   "metadata": {},
   "source": [
    "- When one than one independent variable is present, it is called multiple linear regression."
   ]
  },
  {
   "cell_type": "markdown",
   "metadata": {},
   "source": [
    "- Example application of regression:\n",
    "\n",
    "Many fields or domains such as finance, healthcare, retail, weather."
   ]
  },
  {
   "cell_type": "markdown",
   "metadata": {},
   "source": [
    "# Regression algorithms in Machine Learning\n",
    "- Simple and multiple regression\n",
    "- K-Nearest Neighbors\n",
    "- Decision Trees\n",
    "- Logistic Regression\n",
    "- Non-linear regression\n",
    "- Random forest\n",
    "\n",
    "* Boosting algorithms"
   ]
  },
  {
   "cell_type": "markdown",
   "metadata": {},
   "source": []
  }
 ],
 "metadata": {
  "kernelspec": {
   "display_name": "Python 3",
   "language": "python",
   "name": "python3"
  },
  "language_info": {
   "codemirror_mode": {
    "name": "ipython",
    "version": 3
   },
   "file_extension": ".py",
   "mimetype": "text/x-python",
   "name": "python",
   "nbconvert_exporter": "python",
   "pygments_lexer": "ipython3",
   "version": "3.10.13"
  }
 },
 "nbformat": 4,
 "nbformat_minor": 2
}
